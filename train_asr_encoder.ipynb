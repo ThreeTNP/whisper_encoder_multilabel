{
 "cells": [
  {
   "cell_type": "code",
   "execution_count": 1,
   "id": "008d7abc-b46b-4879-a965-01760e8dd168",
   "metadata": {},
   "outputs": [
    {
     "name": "stdout",
     "output_type": "stream",
     "text": [
      "Fri May 30 05:45:29 2025       \n",
      "+-----------------------------------------------------------------------------+\n",
      "| NVIDIA-SMI 525.105.17   Driver Version: 525.105.17   CUDA Version: 12.0     |\n",
      "|-------------------------------+----------------------+----------------------+\n",
      "| GPU  Name        Persistence-M| Bus-Id        Disp.A | Volatile Uncorr. ECC |\n",
      "| Fan  Temp  Perf  Pwr:Usage/Cap|         Memory-Usage | GPU-Util  Compute M. |\n",
      "|                               |                      |               MIG M. |\n",
      "|===============================+======================+======================|\n",
      "|   0  NVIDIA A100-SXM...  On   | 00000000:C1:00.0 Off |                    0 |\n",
      "| N/A   38C    P0    50W / 400W |      0MiB / 40960MiB |      0%      Default |\n",
      "|                               |                      |             Disabled |\n",
      "+-------------------------------+----------------------+----------------------+\n",
      "                                                                               \n",
      "+-----------------------------------------------------------------------------+\n",
      "| Processes:                                                                  |\n",
      "|  GPU   GI   CI        PID   Type   Process name                  GPU Memory |\n",
      "|        ID   ID                                                   Usage      |\n",
      "|=============================================================================|\n",
      "|  No running processes found                                                 |\n",
      "+-----------------------------------------------------------------------------+\n"
     ]
    }
   ],
   "source": [
    "!nvidia-smi"
   ]
  },
  {
   "cell_type": "code",
   "execution_count": 2,
   "id": "1197689d-2a44-4192-a2a5-600494e50af4",
   "metadata": {},
   "outputs": [],
   "source": [
    "import os\n",
    "import pandas as pd\n",
    "import torch\n",
    "from torch.utils.data import Dataset, DataLoader, random_split, ConcatDataset, Subset\n",
    "import torchaudio\n",
    "import torchaudio.transforms as T\n",
    "import torch.nn as nn\n",
    "from transformers import WhisperProcessor, WhisperModel\n",
    "import copy\n",
    "import random"
   ]
  },
  {
   "cell_type": "code",
   "execution_count": 3,
   "id": "dc48e481-d409-4a31-9ca3-1f2a1752fa81",
   "metadata": {},
   "outputs": [],
   "source": [
    "# ----- Config -----\n",
    "# nectec/Pathumma-whisper-th-large-v3\n",
    "# openai/whisper-large\n",
    "# biodatlab/whisper-th-large-v3-combined\n",
    "MODEL_NAME = \"./Model_whisper/\"\n",
    "NUM_LABELS = 6\n",
    "BATCH_SIZE = 8\n",
    "EPOCHS = 30\n",
    "LEARNING_RATE = 1e-4\n",
    "SAMPLING_RATE = 16000\n",
    "DEVICE = torch.device(\"cuda\" if torch.cuda.is_available() else \"cpu\")\n",
    "\n",
    "processor = WhisperProcessor.from_pretrained(MODEL_NAME)\n",
    "whisper_model = WhisperModel.from_pretrained(MODEL_NAME)"
   ]
  },
  {
   "cell_type": "code",
   "execution_count": 4,
   "id": "fde9d090-f4f3-4738-ad03-55bfb7f37ff8",
   "metadata": {},
   "outputs": [],
   "source": [
    "# ----- Model Definition -----\n",
    "class WhisperClassifier(nn.Module):\n",
    "    def __init__(self, whisper_model=whisper_model, num_labels=NUM_LABELS):\n",
    "        super().__init__()\n",
    "        self.encoder = whisper_model.encoder\n",
    "        self.encoder_block = nn.TransformerEncoder(\n",
    "                        nn.TransformerEncoderLayer(d_model=1280, nhead=8, dropout=0.1, batch_first=True, activation='gelu'),\n",
    "                        num_layers=2\n",
    "                        )\n",
    "        self.classifier = nn.Sequential(\n",
    "            nn.Linear(1280, num_labels),\n",
    "        )\n",
    "        self.weight_proj = nn.Linear(1280, 1)\n",
    "\n",
    "    def forward(self, input_features_1, input_features_2):\n",
    "        outputs_1 = self.encoder(input_features=input_features_1).last_hidden_state\n",
    "        outputs_2 = self.encoder(input_features=input_features_2).last_hidden_state\n",
    "        cat_outputs = torch.cat([outputs_1, outputs_2], dim=1)\n",
    "        x_attn = self.encoder_block(cat_outputs)\n",
    "        weights = torch.softmax(self.weight_proj(x_attn), dim=1)\n",
    "        pooled = (x_attn * weights).sum(dim=1)\n",
    "        logits = self.classifier(pooled)\n",
    "        return logits"
   ]
  },
  {
   "cell_type": "code",
   "execution_count": 5,
   "id": "5898b59e-af82-476e-8014-faca3d786688",
   "metadata": {},
   "outputs": [],
   "source": [
    "class FocalLoss(nn.Module):\n",
    "    def __init__(self, alpha=1, gamma=2, reduction='mean'):\n",
    "        super(FocalLoss, self).__init__()\n",
    "        self.alpha = alpha  # controls class imbalance\n",
    "        self.gamma = gamma  # focuses on hard examples\n",
    "        self.reduction = reduction\n",
    "\n",
    "    def forward(self, inputs, targets):\n",
    "        # Calculate Binary Cross-Entropy Loss for each sample\n",
    "        BCE_loss = nn.functional.binary_cross_entropy_with_logits(inputs, targets, reduction='none')\n",
    "\n",
    "        # Compute pt (model confidence on true class)\n",
    "        pt = torch.exp(-BCE_loss)\n",
    "\n",
    "        # Apply the focal adjustment\n",
    "        focal_loss = self.alpha * (1 - pt) ** self.gamma * BCE_loss\n",
    "\n",
    "        # Apply reduction (mean, sum, or no reduction)\n",
    "        if self.reduction == 'mean':\n",
    "            return focal_loss.mean()\n",
    "        elif self.reduction == 'sum':\n",
    "            return focal_loss.sum()\n",
    "        else:\n",
    "            return focal_loss"
   ]
  },
  {
   "cell_type": "code",
   "execution_count": 6,
   "id": "2227595c-db78-4837-bb39-629316489946",
   "metadata": {},
   "outputs": [],
   "source": [
    "# ----- Dataset Definition -----\n",
    "class WhisperMultilabelDataset(Dataset):\n",
    "    def __init__(self, csv_path, audio_dir, label_columns, processor, sampling_rate=16000):\n",
    "        self.df = pd.read_csv(csv_path)\n",
    "        self.audio_dir = audio_dir\n",
    "        self.label_columns = label_columns\n",
    "        self.processor = processor\n",
    "        self.sampling_rate = sampling_rate\n",
    "\n",
    "    def __len__(self):\n",
    "        return len(self.df)\n",
    "\n",
    "    def __getitem__(self, idx):\n",
    "        row = self.df.iloc[idx]\n",
    "        audio_path = os.path.join(self.audio_dir, row['id'] + '.wav')\n",
    "        waveform, sr = torchaudio.load(audio_path)\n",
    "\n",
    "        if sr != self.sampling_rate:\n",
    "            waveform = T.Resample(orig_freq=sr, new_freq=self.sampling_rate)(waveform)\n",
    "\n",
    "        waveform = waveform.squeeze(0)\n",
    "        if waveform.dim() == 2:\n",
    "            waveform = torch.mean(waveform, dim=0)\n",
    "        chunck_lst = []\n",
    "        for num_chuck in range(2):\n",
    "            inputs = self.processor(waveform[num_chuck * 480000:(num_chuck+1) * 480000], sampling_rate=self.sampling_rate, return_tensors=\"pt\")\n",
    "            input_features = inputs.input_features.squeeze(0)\n",
    "            chunck_lst.append(input_features)\n",
    "        #inputs = self.processor(waveform, sampling_rate=self.sampling_rate, return_tensors=\"pt\")\n",
    "        #input_features = inputs.input_features.squeeze(0)\n",
    "\n",
    "        labels = torch.tensor(row[self.label_columns].astype(int).values, dtype=torch.float32)\n",
    "        return {\"input_features_1\": chunck_lst[0], \"input_features_2\": chunck_lst[1], \"labels\": labels}\n",
    "\n",
    "#----- Usage Example -----\n",
    "label_columns = [\n",
    "    'กล่าวสวัสดี',\n",
    "    'แนะนำชื่อและนามสกุล',\n",
    "    'บอกประเภทใบอนุญาตและเลขที่ใบอนุญาตที่ยังไม่หมดอายุ',\n",
    "    'บอกวัตถุประสงค์ของการเข้าพบครั้งนี้',\n",
    "    'เน้นประโยชน์ว่าลูกค้าได้ประโยชน์อะไรจากการเข้าพบครั้งนี้',\n",
    "    'บอกระยะเวลาที่ใช้ในการเข้าพบ'\n",
    "]\n"
   ]
  },
  {
   "cell_type": "code",
   "execution_count": 7,
   "id": "5de2d277-da38-4319-872c-a0968a7edc9f",
   "metadata": {},
   "outputs": [],
   "source": [
    "model = WhisperClassifier(num_labels=NUM_LABELS).to(DEVICE)\n",
    "\n",
    "# ----- Optimizer & Loss -----\n",
    "optimizer = torch.optim.Adam(model.parameters(), lr=LEARNING_RATE)\n",
    "#criterion = nn.BCEWithLogitsLoss()\n",
    "criterion = FocalLoss(alpha=1, gamma=2)\n",
    "\n",
    "\n",
    "import re\n",
    "\n",
    "pattern = r'\\.(30|31)\\.'\n",
    "\n",
    "for layer, param in model.encoder.named_parameters():\n",
    "    if re.search(pattern, layer):\n",
    "        param.requires_grad = True\n",
    "    else:\n",
    "        param.requires_grad = False"
   ]
  },
  {
   "cell_type": "code",
   "execution_count": 8,
   "id": "c45ada34-d0f7-4bdc-bfd6-d640b64ae5f3",
   "metadata": {},
   "outputs": [],
   "source": [
    "dataset = WhisperMultilabelDataset(\"./data_asr/train.csv\", \"./data_asr/speechs/speechs/train/\", label_columns, processor)\n",
    "dataset_gen = WhisperMultilabelDataset(\"./data_asr/labeled_train.csv\", \"./data_asr/speechs/speechs/gen/speech/\", label_columns, processor)\n",
    "\n",
    "full_dataset = ConcatDataset([dataset, dataset_gen])\n",
    "total_size = len(full_dataset)\n",
    "indices = list(range(total_size))\n",
    "random.seed(42)\n",
    "random.shuffle(indices)\n",
    "\n",
    "train_size = int(0.8 * total_size)\n",
    "train_indices = indices[:train_size]\n",
    "val_indices = indices[train_size:]\n",
    "\n",
    "train_dataset = Subset(full_dataset, train_indices)\n",
    "val_dataset = Subset(full_dataset, val_indices)\n",
    "train_loader = DataLoader(train_dataset, batch_size=BATCH_SIZE, shuffle=True)\n",
    "val_loader = DataLoader(val_dataset, batch_size=BATCH_SIZE, shuffle=False)"
   ]
  },
  {
   "cell_type": "code",
   "execution_count": 9,
   "id": "f93109db-d87e-458b-86ea-3ec07f077e97",
   "metadata": {},
   "outputs": [],
   "source": [
    "dataset = WhisperMultilabelDataset(\"./data_asr/train.csv\", \"./data_asr/speechs/speechs/train/\", label_columns, processor)\n",
    "dataset_gen = WhisperMultilabelDataset(\"./data_asr/labeled_train.csv\", \"./data_asr/speechs/speechs/gen/speech/\", label_columns, processor)\n",
    "\n",
    "full_dataset = ConcatDataset([dataset, dataset_gen])\n",
    "\n",
    "# Split dataset into train and val\n",
    "train_size = int(0.8 * len(dataset))\n",
    "val_size = len(dataset) - train_size\n",
    "torch.manual_seed(42)\n",
    "train_dataset, val_dataset = random_split(dataset, [train_size, val_size])\n",
    "\n",
    "train_loader = DataLoader(train_dataset, batch_size=BATCH_SIZE, shuffle=True)\n",
    "val_loader = DataLoader(val_dataset, batch_size=BATCH_SIZE, shuffle=False)"
   ]
  },
  {
   "cell_type": "code",
   "execution_count": 10,
   "id": "9ce118c1-0afa-400a-9643-28ade6be81c1",
   "metadata": {},
   "outputs": [
    {
     "name": "stderr",
     "output_type": "stream",
     "text": [
      "  0%|          | 0/30 [00:00<?, ?it/s]"
     ]
    },
    {
     "name": "stdout",
     "output_type": "stream",
     "text": [
      "Epoch 1: Training Loss = 0.4114 , Validation Loss = 0.2335\n"
     ]
    },
    {
     "name": "stderr",
     "output_type": "stream",
     "text": [
      "  3%|▎         | 1/30 [00:38<18:48, 38.91s/it]"
     ]
    },
    {
     "name": "stdout",
     "output_type": "stream",
     "text": [
      "Saved new best model with val_loss = 0.2335\n"
     ]
    },
    {
     "name": "stderr",
     "output_type": "stream",
     "text": [
      "  7%|▋         | 2/30 [01:06<15:00, 32.15s/it]"
     ]
    },
    {
     "name": "stdout",
     "output_type": "stream",
     "text": [
      "Epoch 3: Training Loss = 0.1761 , Validation Loss = 0.1849\n"
     ]
    },
    {
     "name": "stderr",
     "output_type": "stream",
     "text": [
      " 10%|█         | 3/30 [01:44<15:37, 34.71s/it]"
     ]
    },
    {
     "name": "stdout",
     "output_type": "stream",
     "text": [
      "Saved new best model with val_loss = 0.1849\n"
     ]
    },
    {
     "name": "stderr",
     "output_type": "stream",
     "text": [
      " 13%|█▎        | 4/30 [02:11<13:47, 31.82s/it]"
     ]
    },
    {
     "name": "stdout",
     "output_type": "stream",
     "text": [
      "Epoch 5: Training Loss = 0.1438 , Validation Loss = 0.1409\n"
     ]
    },
    {
     "name": "stderr",
     "output_type": "stream",
     "text": [
      " 17%|█▋        | 5/30 [02:49<14:08, 33.95s/it]"
     ]
    },
    {
     "name": "stdout",
     "output_type": "stream",
     "text": [
      "Saved new best model with val_loss = 0.1409\n"
     ]
    },
    {
     "name": "stderr",
     "output_type": "stream",
     "text": [
      " 20%|██        | 6/30 [03:16<12:41, 31.72s/it]"
     ]
    },
    {
     "name": "stdout",
     "output_type": "stream",
     "text": [
      "Epoch 7: Training Loss = 0.1043 , Validation Loss = 0.1110\n"
     ]
    },
    {
     "name": "stderr",
     "output_type": "stream",
     "text": [
      " 23%|██▎       | 7/30 [03:54<12:54, 33.66s/it]"
     ]
    },
    {
     "name": "stdout",
     "output_type": "stream",
     "text": [
      "Saved new best model with val_loss = 0.1110\n"
     ]
    },
    {
     "name": "stderr",
     "output_type": "stream",
     "text": [
      " 27%|██▋       | 8/30 [04:21<11:36, 31.67s/it]"
     ]
    },
    {
     "name": "stdout",
     "output_type": "stream",
     "text": [
      "Epoch 9: Training Loss = 0.0693 , Validation Loss = 0.0969\n"
     ]
    },
    {
     "name": "stderr",
     "output_type": "stream",
     "text": [
      " 30%|███       | 9/30 [04:59<11:44, 33.55s/it]"
     ]
    },
    {
     "name": "stdout",
     "output_type": "stream",
     "text": [
      "Saved new best model with val_loss = 0.0969\n"
     ]
    },
    {
     "name": "stderr",
     "output_type": "stream",
     "text": [
      " 37%|███▋      | 11/30 [05:59<10:08, 32.01s/it]"
     ]
    },
    {
     "name": "stdout",
     "output_type": "stream",
     "text": [
      "Epoch 11: Training Loss = 0.0412 , Validation Loss = 0.1544\n"
     ]
    },
    {
     "name": "stderr",
     "output_type": "stream",
     "text": [
      " 40%|████      | 12/30 [06:26<09:10, 30.59s/it]"
     ]
    },
    {
     "name": "stdout",
     "output_type": "stream",
     "text": [
      "Epoch 13: Training Loss = 0.0342 , Validation Loss = 0.0878\n"
     ]
    },
    {
     "name": "stderr",
     "output_type": "stream",
     "text": [
      " 43%|████▎     | 13/30 [07:04<09:16, 32.74s/it]"
     ]
    },
    {
     "name": "stdout",
     "output_type": "stream",
     "text": [
      "Saved new best model with val_loss = 0.0878\n"
     ]
    },
    {
     "name": "stderr",
     "output_type": "stream",
     "text": [
      " 50%|█████     | 15/30 [08:04<07:54, 31.64s/it]"
     ]
    },
    {
     "name": "stdout",
     "output_type": "stream",
     "text": [
      "Epoch 15: Training Loss = 0.0132 , Validation Loss = 0.1298\n"
     ]
    },
    {
     "name": "stderr",
     "output_type": "stream",
     "text": [
      " 57%|█████▋    | 17/30 [09:05<06:44, 31.10s/it]"
     ]
    },
    {
     "name": "stdout",
     "output_type": "stream",
     "text": [
      "Epoch 17: Training Loss = 0.0046 , Validation Loss = 0.1196\n"
     ]
    },
    {
     "name": "stderr",
     "output_type": "stream",
     "text": [
      " 63%|██████▎   | 19/30 [10:05<05:39, 30.84s/it]"
     ]
    },
    {
     "name": "stdout",
     "output_type": "stream",
     "text": [
      "Epoch 19: Training Loss = 0.0013 , Validation Loss = 0.1235\n"
     ]
    },
    {
     "name": "stderr",
     "output_type": "stream",
     "text": [
      " 70%|███████   | 21/30 [11:05<04:36, 30.71s/it]"
     ]
    },
    {
     "name": "stdout",
     "output_type": "stream",
     "text": [
      "Epoch 21: Training Loss = 0.0005 , Validation Loss = 0.1401\n"
     ]
    },
    {
     "name": "stderr",
     "output_type": "stream",
     "text": [
      " 77%|███████▋  | 23/30 [12:05<03:34, 30.64s/it]"
     ]
    },
    {
     "name": "stdout",
     "output_type": "stream",
     "text": [
      "Epoch 23: Training Loss = 0.0002 , Validation Loss = 0.1391\n"
     ]
    },
    {
     "name": "stderr",
     "output_type": "stream",
     "text": [
      " 83%|████████▎ | 25/30 [13:05<02:33, 30.61s/it]"
     ]
    },
    {
     "name": "stdout",
     "output_type": "stream",
     "text": [
      "Epoch 25: Training Loss = 0.0002 , Validation Loss = 0.1390\n"
     ]
    },
    {
     "name": "stderr",
     "output_type": "stream",
     "text": [
      " 90%|█████████ | 27/30 [14:05<01:31, 30.59s/it]"
     ]
    },
    {
     "name": "stdout",
     "output_type": "stream",
     "text": [
      "Epoch 27: Training Loss = 0.0001 , Validation Loss = 0.1421\n"
     ]
    },
    {
     "name": "stderr",
     "output_type": "stream",
     "text": [
      " 97%|█████████▋| 29/30 [15:06<00:30, 30.59s/it]"
     ]
    },
    {
     "name": "stdout",
     "output_type": "stream",
     "text": [
      "Epoch 29: Training Loss = 0.0001 , Validation Loss = 0.1454\n"
     ]
    },
    {
     "name": "stderr",
     "output_type": "stream",
     "text": [
      "100%|██████████| 30/30 [15:33<00:00, 31.12s/it]\n"
     ]
    }
   ],
   "source": [
    "from tqdm import tqdm\n",
    "\n",
    "best_val_loss = float('inf')\n",
    "best_model_path = 'best_model.pt' \n",
    "\n",
    "# ----- Training Loop -----\n",
    "for epoch in tqdm(range(EPOCHS)):\n",
    "    total_loss = 0\n",
    "    val_loss = 0\n",
    "    model.train()\n",
    "    for batch in train_loader:\n",
    "        input_features_1 = batch['input_features_1'].to(DEVICE)\n",
    "        input_features_2 = batch['input_features_2'].to(DEVICE)\n",
    "        labels = batch['labels'].to(DEVICE)\n",
    "\n",
    "        logits = model(input_features_1, input_features_2)\n",
    "        loss = criterion(logits, labels)\n",
    "\n",
    "        loss.backward()\n",
    "        optimizer.step()\n",
    "        #scheduler.step()\n",
    "        optimizer.zero_grad()\n",
    "        total_loss += loss.item()\n",
    "    avg_train_loss = total_loss / len(train_loader)\n",
    "\n",
    "    if epoch % 2 == 0:\n",
    "        model.eval()\n",
    "        with torch.no_grad():\n",
    "            for batch in val_loader:\n",
    "                input_features_1 = batch['input_features_1'].to(DEVICE)\n",
    "                input_features_2 = batch['input_features_2'].to(DEVICE)\n",
    "                labels = batch['labels'].to(DEVICE)\n",
    "\n",
    "                logits = model(input_features_1, input_features_2)\n",
    "                loss = criterion(logits, labels)\n",
    "                val_loss += loss.item()\n",
    "        avg_val_loss = val_loss / len(val_loader)\n",
    "        print(f\"Epoch {epoch+1}: Training Loss = {avg_train_loss:.4f} , Validation Loss = {avg_val_loss:.4f}\")\n",
    "        if avg_val_loss < best_val_loss:\n",
    "            best_val_loss = avg_val_loss\n",
    "            torch.save(model.state_dict(), best_model_path)\n",
    "            print(f\"Saved new best model with val_loss = {avg_val_loss:.4f}\")\n"
   ]
  },
  {
   "cell_type": "code",
   "execution_count": 11,
   "id": "e854df3c-30ec-4461-98b6-6771a98727e6",
   "metadata": {},
   "outputs": [
    {
     "data": {
      "text/plain": [
       "<All keys matched successfully>"
      ]
     },
     "execution_count": 11,
     "metadata": {},
     "output_type": "execute_result"
    }
   ],
   "source": [
    "model.load_state_dict(torch.load(\"best_model_2trans.pt\", weights_only=True))"
   ]
  },
  {
   "cell_type": "code",
   "execution_count": 34,
   "id": "f324153c-7825-4274-b0f1-27d8b00cbc48",
   "metadata": {},
   "outputs": [
    {
     "name": "stderr",
     "output_type": "stream",
     "text": [
      "/home/ai5123/.conda/envs/three_exp/lib/python3.11/site-packages/sklearn/metrics/_classification.py:1565: UndefinedMetricWarning: F-score is ill-defined and being set to 0.0 in samples with no true nor predicted labels. Use `zero_division` parameter to control this behavior.\n",
      "  _warn_prf(average, modifier, f\"{metric.capitalize()} is\", len(result))\n",
      "/home/ai5123/.conda/envs/three_exp/lib/python3.11/site-packages/sklearn/metrics/_classification.py:1565: UndefinedMetricWarning: Precision is ill-defined and being set to 0.0 in samples with no predicted labels. Use `zero_division` parameter to control this behavior.\n",
      "  _warn_prf(average, modifier, f\"{metric.capitalize()} is\", len(result))\n",
      "/home/ai5123/.conda/envs/three_exp/lib/python3.11/site-packages/sklearn/metrics/_classification.py:1565: UndefinedMetricWarning: Recall is ill-defined and being set to 0.0 in samples with no true labels. Use `zero_division` parameter to control this behavior.\n",
      "  _warn_prf(average, modifier, f\"{metric.capitalize()} is\", len(result))\n"
     ]
    },
    {
     "name": "stdout",
     "output_type": "stream",
     "text": [
      "F2 Score: 0.9313\n",
      "Precision: 0.9065\n",
      "Recall: 0.9457\n"
     ]
    },
    {
     "data": {
      "image/png": "[encoded data removed]",
      "text/plain": [
       "<Figure size 1500x800 with 12 Axes>"
      ]
     },
     "metadata": {},
     "output_type": "display_data"
    }
   ],
   "source": [
    "# Evaluation using F2 Score, Precision, Recall and Confusion Matrix\n",
    "\n",
    "import torch\n",
    "import numpy as np\n",
    "from sklearn.metrics import fbeta_score, precision_score, recall_score, multilabel_confusion_matrix\n",
    "import matplotlib.pyplot as plt\n",
    "import seaborn as sns\n",
    "\n",
    "THRESHOLD = 0.4\n",
    "model.eval()\n",
    "all_preds = []\n",
    "all_labels = []\n",
    "\n",
    "with torch.no_grad():\n",
    "    for batch in val_loader:\n",
    "        input_features_1 = batch['input_features_1'].to(DEVICE)\n",
    "        input_features_2 = batch['input_features_2'].to(DEVICE)\n",
    "        labels = batch['labels'].cpu().numpy()\n",
    "        logits = model(input_features_1, input_features_2)\n",
    "        probs = torch.sigmoid(logits).cpu().numpy()\n",
    "        preds = (probs > THRESHOLD).astype(int)\n",
    "\n",
    "        all_preds.append(preds)\n",
    "        all_labels.append(labels)\n",
    "\n",
    "all_preds = np.concatenate(all_preds, axis=0)\n",
    "all_labels = np.concatenate(all_labels, axis=0)\n",
    "\n",
    "# Metric calculation\n",
    "f2 = fbeta_score(all_labels, all_preds, beta=2, average='samples')\n",
    "precision = precision_score(all_labels, all_preds, average='samples')\n",
    "recall = recall_score(all_labels, all_preds, average='samples')\n",
    "\n",
    "print(f\"F2 Score: {f2:.4f}\")\n",
    "print(f\"Precision: {precision:.4f}\")\n",
    "print(f\"Recall: {recall:.4f}\")\n",
    "\n",
    "#Confusion matrix per label (combined in one figure)\n",
    "label_columns_en = [\n",
    "    \"greeting\",\n",
    "    \"introduce_name\",\n",
    "    \"license_info\",\n",
    "    \"visit_purpose\",\n",
    "    \"customer_benefit\",\n",
    "    \"meeting_duration\"\n",
    "]\n",
    "\n",
    "# label_columns_en = [\n",
    "#     \"customer_benefit\",\n",
    "# ]\n",
    "\n",
    "cm = multilabel_confusion_matrix(all_labels, all_preds)\n",
    "fig, axes = plt.subplots(2, 3, figsize=(15, 8))\n",
    "for i, (ax, label) in enumerate(zip(axes.flat, label_columns_en)):\n",
    "    sns.heatmap(cm[i], annot=True, fmt=\"d\", cmap=\"Blues\", ax=ax)\n",
    "    ax.set_title(f\"{label}\")\n",
    "    ax.set_xlabel(\"Predicted\")\n",
    "    ax.set_ylabel(\"Actual\")\n",
    "\n",
    "plt.tight_layout()\n",
    "plt.suptitle(\"Confusion Matrices Thonburian\", fontsize=16, y=1.05)\n",
    "plt.show()"
   ]
  },
  {
   "cell_type": "code",
   "execution_count": 32,
   "id": "6774bb8e-1c40-4b91-93fe-308be68fd195",
   "metadata": {},
   "outputs": [
    {
     "name": "stderr",
     "output_type": "stream",
     "text": [
      "100%|██████████| 300/300 [01:33<00:00,  3.20it/s]\n"
     ]
    }
   ],
   "source": [
    "# Inference on Test Set and Output CSV with Boolean Labels\n",
    "\n",
    "import pandas as pd\n",
    "import torch\n",
    "import torchaudio\n",
    "from torch.utils.data import Dataset, DataLoader\n",
    "from transformers import WhisperProcessor\n",
    "\n",
    "class WhisperTestDataset(Dataset):\n",
    "    def __init__(self, csv_path, audio_dir, processor, sampling_rate=16000):\n",
    "        self.df = pd.read_csv(csv_path)\n",
    "        self.audio_dir = audio_dir\n",
    "        self.processor = processor\n",
    "        self.sampling_rate = sampling_rate\n",
    "\n",
    "    def __len__(self):\n",
    "        return len(self.df)\n",
    "\n",
    "    def __getitem__(self, idx):\n",
    "        row = self.df.iloc[idx]\n",
    "        audio_path = os.path.join(self.audio_dir, row['id'] + '.wav')\n",
    "        waveform, sr = torchaudio.load(audio_path)\n",
    "        if sr != self.sampling_rate:\n",
    "            waveform = torchaudio.transforms.Resample(orig_freq=sr, new_freq=self.sampling_rate)(waveform)\n",
    "        waveform = waveform.squeeze(0)\n",
    "        chunck_lst = []\n",
    "        for num_chuck in range(2):\n",
    "            inputs = self.processor(waveform[num_chuck * 480000:(num_chuck+1) * 480000], sampling_rate=self.sampling_rate, return_tensors=\"pt\")\n",
    "            input_features = inputs.input_features.squeeze(0)\n",
    "            chunck_lst.append(input_features)\n",
    "        #inputs = self.processor(waveform, sampling_rate=self.sampling_rate, return_tensors=\"pt\")\n",
    "        #input_features = inputs.input_features.squeeze(0)\n",
    "        return row['id'], {\"input_features_1\": chunck_lst[0], \"input_features_2\": chunck_lst[1]}\n",
    "\n",
    "# Config\n",
    "TEST_CSV_PATH = \"./data_asr/test.csv\"\n",
    "TEST_AUDIO_DIR = \"./data_asr/speechs/speechs/test/\"\n",
    "THRESHOLD = 0.4\n",
    "\n",
    "# Load\n",
    "#processor = WhisperProcessor.from_pretrained(MODEL_NAME)\n",
    "test_dataset = WhisperTestDataset(TEST_CSV_PATH, TEST_AUDIO_DIR, processor, sampling_rate=SAMPLING_RATE)\n",
    "test_loader = DataLoader(test_dataset, batch_size=1, shuffle=False)\n",
    "\n",
    "# Inference\n",
    "model.eval()\n",
    "results = []\n",
    "\n",
    "with torch.no_grad():\n",
    "    for audio_id, input_features in tqdm(test_loader):\n",
    "        input_features_1 = input_features['input_features_1'].to(DEVICE)\n",
    "        input_features_2 = input_features['input_features_2'].to(DEVICE)\n",
    "        logits = model(input_features_1, input_features_2)\n",
    "        probs = torch.sigmoid(logits).cpu().numpy()\n",
    "        preds = (probs > THRESHOLD).astype(bool).tolist()[0]\n",
    "        results.append([audio_id[0]] + preds)\n",
    "\n",
    "# Save to CSV\n",
    "label_columns = [\n",
    "    'กล่าวสวัสดี',\n",
    "    'แนะนำชื่อและนามสกุล',\n",
    "    'บอกประเภทใบอนุญาตและเลขที่ใบอนุญาตที่ยังไม่หมดอายุ',\n",
    "    'บอกวัตถุประสงค์ของการเข้าพบครั้งนี้',\n",
    "    'เน้นประโยชน์ว่าลูกค้าได้ประโยชน์อะไรจากการเข้าพบครั้งนี้',\n",
    "    'บอกระยะเวลาที่ใช้ในการเข้าพบ'\n",
    "]\n",
    "\n",
    "columns = ['id'] + label_columns\n",
    "submission_df = pd.DataFrame(results, columns=columns)"
   ]
  },
  {
   "cell_type": "code",
   "execution_count": 33,
   "id": "e803d65d-84b1-4d63-ac0b-5a88b2f31e5a",
   "metadata": {},
   "outputs": [
    {
     "name": "stdout",
     "output_type": "stream",
     "text": [
      "Saved submission.csv\n"
     ]
    }
   ],
   "source": [
    "submission_df.to_csv(\"submission_add_data_04.csv\", index=False)\n",
    "print(\"Saved submission.csv\")"
   ]
  },
  {
   "cell_type": "code",
   "execution_count": null,
   "id": "50e5d8c7-c5cd-4d6e-8551-78cfd816f1e8",
   "metadata": {},
   "outputs": [],
   "source": []
  }
 ],
 "metadata": {
  "kernelspec": {
   "display_name": "Python 3 (ipykernel)",
   "language": "python",
   "name": "python3"
  },
  "language_info": {
   "codemirror_mode": {
    "name": "ipython",
    "version": 3
   },
   "file_extension": ".py",
   "mimetype": "text/x-python",
   "name": "python",
   "nbconvert_exporter": "python",
   "pygments_lexer": "ipython3",
   "version": "3.11.12"
  }
 },
 "nbformat": 4,
 "nbformat_minor": 5
}
